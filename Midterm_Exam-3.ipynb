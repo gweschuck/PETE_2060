{
 "cells": [
  {
   "cell_type": "markdown",
   "metadata": {},
   "source": [
    "# Midterm Exam\n",
    "The following is a guide for your midterm exam. Please use all available knowledge to solve the problems. Please perform your own work and do not cheat from others. You will be held to the university's code of conduct, all violators will be reported."
   ]
  },
  {
   "cell_type": "code",
   "execution_count": 2,
   "metadata": {},
   "outputs": [],
   "source": [
    "import numpy as np\n",
    "import pandas as pd\n",
    "import seaborn as sn\n",
    "import scipy.stats as ss\n",
    "import matplotlib.pyplot as plt"
   ]
  },
  {
   "cell_type": "markdown",
   "metadata": {},
   "source": [
    "## Basic Descriptive Statistics\n",
    "A simple random sample of oil wells is chosen from a large oil field. The sample API gravities of the oils are: 35.7, 36.5, 40.1, 33.9, 38.8. Calculate the average value, the sample variance, and the sample standard deviation of these gravities. "
   ]
  },
  {
   "cell_type": "markdown",
   "metadata": {},
   "source": [
    "### Average of Sample $\\overline{X}$ \n",
    "$$\\overline{X}=\\frac{1}{n}*\\sum_{i=1}^{n} X_i$$ where $X_i$ is an individual sample value and $n$ is the sample size."
   ]
  },
  {
   "cell_type": "code",
   "execution_count": 3,
   "metadata": {},
   "outputs": [],
   "source": [
    "X = np.array([35.7, 36.5, 40.1, 33.9, 38.8])"
   ]
  },
  {
   "cell_type": "code",
   "execution_count": 4,
   "metadata": {},
   "outputs": [
    {
     "name": "stdout",
     "output_type": "stream",
     "text": [
      "The Average is: 37.0\n"
     ]
    }
   ],
   "source": [
    "X_ave = np.average(X)\n",
    "print('The Average is:', X_ave)"
   ]
  },
  {
   "cell_type": "markdown",
   "metadata": {},
   "source": [
    "### Variance of Sample $s^2$ \n",
    "$$s^2=\\frac{1}{n-1}*\\sum_{i=1}^{n} (X_i-\\overline{X})^2$$"
   ]
  },
  {
   "cell_type": "code",
   "execution_count": 5,
   "metadata": {},
   "outputs": [
    {
     "name": "stdout",
     "output_type": "stream",
     "text": [
      "The Variance of the sample is: 6.1\n"
     ]
    }
   ],
   "source": [
    "s_2 = np.var(X, ddof = 1) #ddof is the variance on the fixed sample and not the entire population\n",
    "print('The Variance of the sample is:' ,s_2)"
   ]
  },
  {
   "cell_type": "markdown",
   "metadata": {},
   "source": [
    "### Standard Deviation of Sample $s$ \n",
    "$$s=\\sqrt{\\frac{1}{n-1}*\\sum_{i=1}^{n} (X_i-\\overline{X})^2}$$"
   ]
  },
  {
   "cell_type": "code",
   "execution_count": 6,
   "metadata": {},
   "outputs": [
    {
     "name": "stdout",
     "output_type": "stream",
     "text": [
      "The Standard Deviation of the sample is: 2.4698178070456938\n"
     ]
    }
   ],
   "source": [
    "s = np.std(X, ddof = 1) #ddof is the st dev on the fixed sample and not the entire population\n",
    "print('The Standard Deviation of the sample is:', s)"
   ]
  },
  {
   "cell_type": "markdown",
   "metadata": {},
   "source": [
    "### Median of Sample \n",
    "$$median = \\begin{cases} \\textrm{if}\\ n\\ \\textrm{is odd}\\ X_{\\frac{n+1}{2}}, \\\\ \\textrm{if}\\ n\\ \\textrm{is even}\\ \\frac{X_{\\frac{n}{2}}+X_{\\frac{n}{2}+1}}{2} \\end{cases}$$"
   ]
  },
  {
   "cell_type": "code",
   "execution_count": 7,
   "metadata": {},
   "outputs": [
    {
     "name": "stdout",
     "output_type": "stream",
     "text": [
      "The median of the sample is: 36.5\n"
     ]
    }
   ],
   "source": [
    "median = np.median(X)\n",
    "print('The median of the sample is:', median)"
   ]
  },
  {
   "cell_type": "markdown",
   "metadata": {},
   "source": [
    "## Visualization\n",
    "### Boxplots\n",
    "The boxplot demonstrates the median value inside of a box demonstrating the InterQuartile Range (IQR), this is the box containing 50% of the total values of the data (i.e. what is between the first and third quartile). The top whisker shows the largest value that is within 1.5IQR and the lower whisker demonstrates the smallest value within 1.5IQR. Finally if there are any outliers (values that are beyond 1.5IQR) these are demonstrated as circles or x's. "
   ]
  },
  {
   "cell_type": "code",
   "execution_count": 8,
   "metadata": {},
   "outputs": [
    {
     "data": {
      "image/png": "[encoded data removed]",
      "text/plain": [
       "<Figure size 432x288 with 1 Axes>"
      ]
     },
     "metadata": {
      "needs_background": "light"
     },
     "output_type": "display_data"
    }
   ],
   "source": [
    "plt.boxplot(X)\n",
    "plt.annotate('      Largest value within 1.5*IQR',[1,np.max(X)])\n",
    "plt.annotate('         Third Quartile',[1,np.percentile(X, 75)])\n",
    "plt.annotate('         First Quartile',[1,np.percentile(X, 25)])\n",
    "plt.annotate('         Median',[1,np.median(X)])\n",
    "plt.annotate('      Smallest value within 1.5*IQR',[1,np.min(X)])\n",
    "plt.show()"
   ]
  },
  {
   "cell_type": "code",
   "execution_count": 9,
   "metadata": {},
   "outputs": [],
   "source": [
    "X_outliers = np.append(X,50) #add and outlier value of 50"
   ]
  },
  {
   "cell_type": "code",
   "execution_count": 10,
   "metadata": {},
   "outputs": [
    {
     "data": {
      "image/png": "[encoded data removed]",
      "text/plain": [
       "<Figure size 432x288 with 1 Axes>"
      ]
     },
     "metadata": {
      "needs_background": "light"
     },
     "output_type": "display_data"
    }
   ],
   "source": [
    "plt.boxplot(X_outliers)\n",
    "plt.annotate('  Outlier',[1,np.max(X_outliers)])\n",
    "plt.annotate('          Notice shift in median',[1,np.median(X_outliers)])\n",
    "plt.show()"
   ]
  },
  {
   "cell_type": "code",
   "execution_count": 11,
   "metadata": {},
   "outputs": [
    {
     "name": "stdout",
     "output_type": "stream",
     "text": [
      "The median shifts up by: 1.1499999999999986 because of the outlier.\n"
     ]
    }
   ],
   "source": [
    "print('The median shifts up by:',np.median(X_outliers)-np.median(X), \"because of the outlier.\")"
   ]
  },
  {
   "cell_type": "markdown",
   "metadata": {},
   "source": [
    "### Line plot of multivariate data"
   ]
  },
  {
   "cell_type": "code",
   "execution_count": 12,
   "metadata": {},
   "outputs": [],
   "source": [
    "#Oil field production data set with oil, gas, and water prodction for two different years\n",
    "data = np.array([['1/1/2016', 828, 0, 37286],\n",
    "       ['2/1/2016', 794, 0, 33982],\n",
    "       ['3/1/2016', 889, 0, 39349],\n",
    "       ['4/1/2016', 741, 0, 38592],\n",
    "       ['5/1/2016', 973, 0, 34815],\n",
    "       ['6/1/2016', 735, 0, 32522],\n",
    "       ['7/1/2016', 808, 0, 36886],\n",
    "       ['8/1/2016', 844, 0, 39862],\n",
    "       ['9/1/2016', 817, 0, 38272],\n",
    "       ['10/1/2016', 774, 0, 38344],\n",
    "       ['11/1/2016', 763, 0, 36126],\n",
    "       ['12/1/2016', 791, 0, 39092],\n",
    "       ['1/1/2018', 664, 0, 34266],\n",
    "       ['1/2/2018', 589, 0, 30039],\n",
    "       ['1/3/2018', 613, 0, 30764],\n",
    "       ['1/4/2018', 653, 0, 33245],\n",
    "       ['1/5/2018', 529, 0, 27041],\n",
    "       ['1/6/2018', 420, 0, 25044],\n",
    "       ['1/7/2018', 499, 0, 30131],\n",
    "       ['1/8/2018', 620, 0, 36867],\n",
    "       ['1/9/2018', 623, 0, 32490],\n",
    "       ['1/10/2018', 424, 0, 32319],\n",
    "       ['1/11/2018', 615, 0, 34421],\n",
    "       ['1/12/2018', 634, 0, 33155]], dtype=object)"
   ]
  },
  {
   "cell_type": "code",
   "execution_count": 13,
   "metadata": {},
   "outputs": [],
   "source": [
    "df = pd.DataFrame(data)"
   ]
  },
  {
   "cell_type": "code",
   "execution_count": 14,
   "metadata": {},
   "outputs": [],
   "source": [
    "df.columns = ['Date','Oil bbls','Gas MSCF','Water bbls']\n",
    "df['Date'] = pd.to_datetime(df['Date'])"
   ]
  },
  {
   "cell_type": "code",
   "execution_count": 15,
   "metadata": {},
   "outputs": [
    {
     "data": {
      "text/html": [
       "<div>\n",
       "<style scoped>\n",
       "    .dataframe tbody tr th:only-of-type {\n",
       "        vertical-align: middle;\n",
       "    }\n",
       "\n",
       "    .dataframe tbody tr th {\n",
       "        vertical-align: top;\n",
       "    }\n",
       "\n",
       "    .dataframe thead th {\n",
       "        text-align: right;\n",
       "    }\n",
       "</style>\n",
       "<table border=\"1\" class=\"dataframe\">\n",
       "  <thead>\n",
       "    <tr style=\"text-align: right;\">\n",
       "      <th></th>\n",
       "      <th>Date</th>\n",
       "      <th>Oil bbls</th>\n",
       "      <th>Water bbls</th>\n",
       "    </tr>\n",
       "  </thead>\n",
       "  <tbody>\n",
       "    <tr>\n",
       "      <th>0</th>\n",
       "      <td>2016-01-01</td>\n",
       "      <td>828</td>\n",
       "      <td>37286</td>\n",
       "    </tr>\n",
       "    <tr>\n",
       "      <th>1</th>\n",
       "      <td>2016-02-01</td>\n",
       "      <td>794</td>\n",
       "      <td>33982</td>\n",
       "    </tr>\n",
       "    <tr>\n",
       "      <th>2</th>\n",
       "      <td>2016-03-01</td>\n",
       "      <td>889</td>\n",
       "      <td>39349</td>\n",
       "    </tr>\n",
       "    <tr>\n",
       "      <th>3</th>\n",
       "      <td>2016-04-01</td>\n",
       "      <td>741</td>\n",
       "      <td>38592</td>\n",
       "    </tr>\n",
       "    <tr>\n",
       "      <th>4</th>\n",
       "      <td>2016-05-01</td>\n",
       "      <td>973</td>\n",
       "      <td>34815</td>\n",
       "    </tr>\n",
       "    <tr>\n",
       "      <th>5</th>\n",
       "      <td>2016-06-01</td>\n",
       "      <td>735</td>\n",
       "      <td>32522</td>\n",
       "    </tr>\n",
       "    <tr>\n",
       "      <th>6</th>\n",
       "      <td>2016-07-01</td>\n",
       "      <td>808</td>\n",
       "      <td>36886</td>\n",
       "    </tr>\n",
       "    <tr>\n",
       "      <th>7</th>\n",
       "      <td>2016-08-01</td>\n",
       "      <td>844</td>\n",
       "      <td>39862</td>\n",
       "    </tr>\n",
       "    <tr>\n",
       "      <th>8</th>\n",
       "      <td>2016-09-01</td>\n",
       "      <td>817</td>\n",
       "      <td>38272</td>\n",
       "    </tr>\n",
       "    <tr>\n",
       "      <th>9</th>\n",
       "      <td>2016-10-01</td>\n",
       "      <td>774</td>\n",
       "      <td>38344</td>\n",
       "    </tr>\n",
       "    <tr>\n",
       "      <th>10</th>\n",
       "      <td>2016-11-01</td>\n",
       "      <td>763</td>\n",
       "      <td>36126</td>\n",
       "    </tr>\n",
       "    <tr>\n",
       "      <th>11</th>\n",
       "      <td>2016-12-01</td>\n",
       "      <td>791</td>\n",
       "      <td>39092</td>\n",
       "    </tr>\n",
       "    <tr>\n",
       "      <th>12</th>\n",
       "      <td>2018-01-01</td>\n",
       "      <td>664</td>\n",
       "      <td>34266</td>\n",
       "    </tr>\n",
       "    <tr>\n",
       "      <th>13</th>\n",
       "      <td>2018-01-02</td>\n",
       "      <td>589</td>\n",
       "      <td>30039</td>\n",
       "    </tr>\n",
       "    <tr>\n",
       "      <th>14</th>\n",
       "      <td>2018-01-03</td>\n",
       "      <td>613</td>\n",
       "      <td>30764</td>\n",
       "    </tr>\n",
       "    <tr>\n",
       "      <th>15</th>\n",
       "      <td>2018-01-04</td>\n",
       "      <td>653</td>\n",
       "      <td>33245</td>\n",
       "    </tr>\n",
       "    <tr>\n",
       "      <th>16</th>\n",
       "      <td>2018-01-05</td>\n",
       "      <td>529</td>\n",
       "      <td>27041</td>\n",
       "    </tr>\n",
       "    <tr>\n",
       "      <th>17</th>\n",
       "      <td>2018-01-06</td>\n",
       "      <td>420</td>\n",
       "      <td>25044</td>\n",
       "    </tr>\n",
       "    <tr>\n",
       "      <th>18</th>\n",
       "      <td>2018-01-07</td>\n",
       "      <td>499</td>\n",
       "      <td>30131</td>\n",
       "    </tr>\n",
       "    <tr>\n",
       "      <th>19</th>\n",
       "      <td>2018-01-08</td>\n",
       "      <td>620</td>\n",
       "      <td>36867</td>\n",
       "    </tr>\n",
       "    <tr>\n",
       "      <th>20</th>\n",
       "      <td>2018-01-09</td>\n",
       "      <td>623</td>\n",
       "      <td>32490</td>\n",
       "    </tr>\n",
       "    <tr>\n",
       "      <th>21</th>\n",
       "      <td>2018-01-10</td>\n",
       "      <td>424</td>\n",
       "      <td>32319</td>\n",
       "    </tr>\n",
       "    <tr>\n",
       "      <th>22</th>\n",
       "      <td>2018-01-11</td>\n",
       "      <td>615</td>\n",
       "      <td>34421</td>\n",
       "    </tr>\n",
       "    <tr>\n",
       "      <th>23</th>\n",
       "      <td>2018-01-12</td>\n",
       "      <td>634</td>\n",
       "      <td>33155</td>\n",
       "    </tr>\n",
       "  </tbody>\n",
       "</table>\n",
       "</div>"
      ],
      "text/plain": [
       "         Date Oil bbls Water bbls\n",
       "0  2016-01-01      828      37286\n",
       "1  2016-02-01      794      33982\n",
       "2  2016-03-01      889      39349\n",
       "3  2016-04-01      741      38592\n",
       "4  2016-05-01      973      34815\n",
       "5  2016-06-01      735      32522\n",
       "6  2016-07-01      808      36886\n",
       "7  2016-08-01      844      39862\n",
       "8  2016-09-01      817      38272\n",
       "9  2016-10-01      774      38344\n",
       "10 2016-11-01      763      36126\n",
       "11 2016-12-01      791      39092\n",
       "12 2018-01-01      664      34266\n",
       "13 2018-01-02      589      30039\n",
       "14 2018-01-03      613      30764\n",
       "15 2018-01-04      653      33245\n",
       "16 2018-01-05      529      27041\n",
       "17 2018-01-06      420      25044\n",
       "18 2018-01-07      499      30131\n",
       "19 2018-01-08      620      36867\n",
       "20 2018-01-09      623      32490\n",
       "21 2018-01-10      424      32319\n",
       "22 2018-01-11      615      34421\n",
       "23 2018-01-12      634      33155"
      ]
     },
     "execution_count": 15,
     "metadata": {},
     "output_type": "execute_result"
    }
   ],
   "source": [
    "df.drop('Gas MSCF',1)"
   ]
  },
  {
   "cell_type": "code",
   "execution_count": 16,
   "metadata": {},
   "outputs": [
    {
     "data": {
      "image/png": "[encoded data removed]",
      "text/plain": [
       "<Figure size 1332x756 with 2 Axes>"
      ]
     },
     "metadata": {
      "needs_background": "light"
     },
     "output_type": "display_data"
    }
   ],
   "source": [
    "fig, ax1 = plt.subplots()\n",
    "\n",
    "ax2 = ax1.twinx()\n",
    "ax1.plot(df['Date'], df['Oil bbls'], 'g-')\n",
    "ax2.plot(df['Date'], df['Water bbls'], 'b-')\n",
    "\n",
    "ax1.set_xlabel('Date')\n",
    "ax1.set_ylabel('Oil bbls', color='g')\n",
    "ax2.set_ylabel('Water bbls', color='b')\n",
    "fig = plt.gcf()\n",
    "fig.set_size_inches(18.5, 10.5)\n",
    "plt.rcParams.update({'font.size': 42})\n",
    "plt.show()"
   ]
  },
  {
   "cell_type": "code",
   "execution_count": 17,
   "metadata": {},
   "outputs": [],
   "source": [
    "plt.rcParams.update({'font.size': 12})"
   ]
  },
  {
   "cell_type": "markdown",
   "metadata": {},
   "source": [
    "## Probability\n",
    "### Permutations\n",
    "Five people stand in line in a movie theater, how many different orders can they stand in?\n",
    "\n",
    "For any positive integer $n$, there are $n!$ permutations, where $n!=n(n-1)(n-2)\\cdots (3)(2)(1)$ and $0!=1$"
   ]
  },
  {
   "cell_type": "code",
   "execution_count": 18,
   "metadata": {},
   "outputs": [
    {
     "name": "stdout",
     "output_type": "stream",
     "text": [
      "There are 120 different ways that\n"
     ]
    }
   ],
   "source": [
    "n = 5 #Number of people in line\n",
    "perms = np.math.factorial(n)\n",
    "print('There are', perms, 'different ways that')"
   ]
  },
  {
   "cell_type": "markdown",
   "metadata": {},
   "source": [
    "There are five life guards on duty, there are three life guard stations. In how many ways can there be three life guards chosen and ordered among the stations?\n",
    "\n",
    "The number of permutations of $k$ objects chosen from a group of $n$ objects is $$\\frac{n!}{(n-k)!}$$"
   ]
  },
  {
   "cell_type": "code",
   "execution_count": 19,
   "metadata": {},
   "outputs": [
    {
     "name": "stdout",
     "output_type": "stream",
     "text": [
      "There are 60.0 different ways that 5 life guards can be split into 3 different stations.\n"
     ]
    }
   ],
   "source": [
    "k = 3 #number of life guard stations\n",
    "n = 5 #number of life guards\n",
    "perms = np.math.factorial(n)/np.math.factorial(n-k)\n",
    "print('There are', perms, 'different ways that', n, 'life guards can be split into', k, 'different stations.')"
   ]
  },
  {
   "cell_type": "markdown",
   "metadata": {},
   "source": [
    "If the above 5 life guards had names A,B,C,D,E, what would the 60 different permutations look like?"
   ]
  },
  {
   "cell_type": "code",
   "execution_count": 20,
   "metadata": {},
   "outputs": [
    {
     "name": "stdout",
     "output_type": "stream",
     "text": [
      "('A', 'B', 'C')\n",
      "('A', 'B', 'D')\n",
      "('A', 'B', 'E')\n",
      "('A', 'C', 'B')\n",
      "('A', 'C', 'D')\n",
      "('A', 'C', 'E')\n",
      "('A', 'D', 'B')\n",
      "('A', 'D', 'C')\n",
      "('A', 'D', 'E')\n",
      "('A', 'E', 'B')\n",
      "('A', 'E', 'C')\n",
      "('A', 'E', 'D')\n",
      "('B', 'A', 'C')\n",
      "('B', 'A', 'D')\n",
      "('B', 'A', 'E')\n",
      "('B', 'C', 'A')\n",
      "('B', 'C', 'D')\n",
      "('B', 'C', 'E')\n",
      "('B', 'D', 'A')\n",
      "('B', 'D', 'C')\n",
      "('B', 'D', 'E')\n",
      "('B', 'E', 'A')\n",
      "('B', 'E', 'C')\n",
      "('B', 'E', 'D')\n",
      "('C', 'A', 'B')\n",
      "('C', 'A', 'D')\n",
      "('C', 'A', 'E')\n",
      "('C', 'B', 'A')\n",
      "('C', 'B', 'D')\n",
      "('C', 'B', 'E')\n",
      "('C', 'D', 'A')\n",
      "('C', 'D', 'B')\n",
      "('C', 'D', 'E')\n",
      "('C', 'E', 'A')\n",
      "('C', 'E', 'B')\n",
      "('C', 'E', 'D')\n",
      "('D', 'A', 'B')\n",
      "('D', 'A', 'C')\n",
      "('D', 'A', 'E')\n",
      "('D', 'B', 'A')\n",
      "('D', 'B', 'C')\n",
      "('D', 'B', 'E')\n",
      "('D', 'C', 'A')\n",
      "('D', 'C', 'B')\n",
      "('D', 'C', 'E')\n",
      "('D', 'E', 'A')\n",
      "('D', 'E', 'B')\n",
      "('D', 'E', 'C')\n",
      "('E', 'A', 'B')\n",
      "('E', 'A', 'C')\n",
      "('E', 'A', 'D')\n",
      "('E', 'B', 'A')\n",
      "('E', 'B', 'C')\n",
      "('E', 'B', 'D')\n",
      "('E', 'C', 'A')\n",
      "('E', 'C', 'B')\n",
      "('E', 'C', 'D')\n",
      "('E', 'D', 'A')\n",
      "('E', 'D', 'B')\n",
      "('E', 'D', 'C')\n"
     ]
    }
   ],
   "source": [
    "from itertools import permutations \n",
    "  \n",
    "# Get all permutations of [1, 2, 3] \n",
    "perm = permutations(['A','B','C','D','E'],3) \n",
    "  \n",
    "# Print the obtained permutations \n",
    "for i in list(perm): \n",
    "    print(i) "
   ]
  },
  {
   "cell_type": "markdown",
   "metadata": {},
   "source": [
    "### Combinations\n",
    "It can be seen that in the 60 permutations above, there are groups that have the same members. Thus ABC has the same members as CAB, BCA, BAC, ACB, and CBA. Therefore there are 10 sets of 6 permutations each. Thus there are 10 combinations. The number of combinations of $k$ objects chosen from $n$ is denoted by $\\binom{n}{k}$. Therefore there can be calculated the number of combinations of $k$ objects chosen from a group of $n$ objects as $$\\binom{n}{k}=\\frac{n!}{k!(n-k)!}$$."
   ]
  },
  {
   "cell_type": "code",
   "execution_count": 21,
   "metadata": {},
   "outputs": [
    {
     "name": "stdout",
     "output_type": "stream",
     "text": [
      "There are 10.0 combinations of 3 objects chosen from 5 sized group of objects.\n"
     ]
    }
   ],
   "source": [
    "combs = np.math.factorial(n)/(np.math.factorial(k)*np.math.factorial(n-k))\n",
    "print('There are', combs, 'combinations of', k, 'objects chosen from', n, 'sized group of objects.')"
   ]
  },
  {
   "cell_type": "markdown",
   "metadata": {},
   "source": [
    "There are 20 open sockets on a light string to be arranged with 6 red bulbs, 4 blue, 7 green, and 3 white. In how many ways can these bulbs be arranged?\n",
    "\n",
    "The number of ways of dividing a group of $n$ objects into groups of $k_1,\\cdots,k_r$, where $k_1+\\cdots+k_r=n$ is found with $$\\frac{n!}{k_1!\\cdots k_r!}$$ "
   ]
  },
  {
   "cell_type": "code",
   "execution_count": 22,
   "metadata": {},
   "outputs": [
    {
     "name": "stdout",
     "output_type": "stream",
     "text": [
      "There are 4655851200.0 combinations of colors for the string of 20 sockets.\n"
     ]
    }
   ],
   "source": [
    "n = 20 #number of open sockets\n",
    "k1 = 6\n",
    "k2 = 4\n",
    "k3 = 7\n",
    "k4 = 3\n",
    "combs = np.math.factorial(n)/(np.math.factorial(k1)*np.math.factorial(k2)\n",
    "                              *np.math.factorial(k3)*np.math.factorial(k4))\n",
    "print('There are', combs, 'combinations of colors for the string of', n, 'sockets.')"
   ]
  },
  {
   "cell_type": "markdown",
   "metadata": {},
   "source": [
    "### Unconditional Probability\n",
    "Create a set of data for a collection of 1000 aluminum rods. They are classified by diameter (Too thin, OK, and Too Thick) and lengths (Too short, OK, Too long). "
   ]
  },
  {
   "cell_type": "code",
   "execution_count": 61,
   "metadata": {},
   "outputs": [
    {
     "data": {
      "text/html": [
       "<div>\n",
       "<style scoped>\n",
       "    .dataframe tbody tr th:only-of-type {\n",
       "        vertical-align: middle;\n",
       "    }\n",
       "\n",
       "    .dataframe tbody tr th {\n",
       "        vertical-align: top;\n",
       "    }\n",
       "\n",
       "    .dataframe thead th {\n",
       "        text-align: right;\n",
       "    }\n",
       "</style>\n",
       "<table border=\"1\" class=\"dataframe\">\n",
       "  <thead>\n",
       "    <tr style=\"text-align: right;\">\n",
       "      <th></th>\n",
       "      <th>Too Thin</th>\n",
       "      <th>OK</th>\n",
       "      <th>Too Thick</th>\n",
       "    </tr>\n",
       "    <tr>\n",
       "      <th>Length</th>\n",
       "      <th></th>\n",
       "      <th></th>\n",
       "      <th></th>\n",
       "    </tr>\n",
       "  </thead>\n",
       "  <tbody>\n",
       "    <tr>\n",
       "      <th>Too Short</th>\n",
       "      <td>10</td>\n",
       "      <td>3</td>\n",
       "      <td>5</td>\n",
       "    </tr>\n",
       "    <tr>\n",
       "      <th>OK</th>\n",
       "      <td>38</td>\n",
       "      <td>900</td>\n",
       "      <td>4</td>\n",
       "    </tr>\n",
       "    <tr>\n",
       "      <th>Too Long</th>\n",
       "      <td>2</td>\n",
       "      <td>25</td>\n",
       "      <td>13</td>\n",
       "    </tr>\n",
       "  </tbody>\n",
       "</table>\n",
       "</div>"
      ],
      "text/plain": [
       "           Too Thin   OK  Too Thick\n",
       "Length                             \n",
       "Too Short        10    3          5\n",
       "OK               38  900          4\n",
       "Too Long          2   25         13"
      ]
     },
     "execution_count": 61,
     "metadata": {},
     "output_type": "execute_result"
    }
   ],
   "source": [
    "df = pd.DataFrame({'Length':['Too Short','OK','Too Long'],'Too Thin':[10,38,2],'OK':[3,900,25],'Too Thick':[5,4,13]})\n",
    "df.set_index('Length')"
   ]
  },
  {
   "cell_type": "markdown",
   "metadata": {},
   "source": [
    "Find the unconditional probability that out of the total samples, it meets both the length and diameter specifications (OK)"
   ]
  },
  {
   "cell_type": "code",
   "execution_count": 76,
   "metadata": {},
   "outputs": [
    {
     "name": "stdout",
     "output_type": "stream",
     "text": [
      "There is a 90.0 % chance of having an OK value in the total of 1000 samples.\n"
     ]
    }
   ],
   "source": [
    "n = sum(df['Too Thin']+df['OK']+df['Too Thick']) #Calculate total number of samples\n",
    "k = df.OK[1] #Number of OK OK values\n",
    "prob = 100*k/n #Calculate the probability\n",
    "print('There is a', prob, '% chance of having an OK value in the total of', n, 'samples.')"
   ]
  },
  {
   "cell_type": "markdown",
   "metadata": {},
   "source": [
    "Find the conditional probability that you will have only an OK value out of the OK lengths."
   ]
  },
  {
   "cell_type": "code",
   "execution_count": 117,
   "metadata": {},
   "outputs": [
    {
     "name": "stdout",
     "output_type": "stream",
     "text": [
      "There is a 95.54140127388536 % probability of having an OK diameter value in the conditionally OK Length data set.\n"
     ]
    }
   ],
   "source": [
    "n = sum(df.loc[1][1:])\n",
    "k = df.OK[1] #Number of OK OK values\n",
    "prob = 100*k/n\n",
    "print('There is a', prob, '% probability of having an OK diameter value in the conditionally OK Length data set.')"
   ]
  },
  {
   "cell_type": "markdown",
   "metadata": {},
   "source": [
    "## Random Variables\n",
    "Determine whether each of the following is a random discrete or continous variable.\n",
    "\n",
    "a) The number of heads in 100 coin tosses.\n",
    "#### Discrete\n",
    "\n",
    "b) The length of a rod randomly chosen from a day's production.\n",
    "#### Continuous\n",
    "\n",
    "c) The final exam score (A,B,C,D,F) of a randomly chosen student from a class\n",
    "#### Discrete\n",
    "\n",
    "d) The age of a randomly chosen student from LSU\n",
    "#### Continuous\n",
    "\n",
    "e) The age a randomly chosen student from LSU will be on their next birthday\n",
    "#### Discrete\n",
    "\n",
    "\n",
    "\n",
    "### Discrete Random Variables"
   ]
  },
  {
   "cell_type": "markdown",
   "metadata": {},
   "source": [
    "Imagine we want to select two out of six resistors to build a circuit in series (where the ultimate resistance is the summation of the two resistors). We have three labeled 10 $\\Omega$ and three labeled 20 $\\Omega$. However the actual resistances of the three 10 $\\Omega$ resistors are 9, 10, and 11 $\\Omega$ and the three 20 $\\Omega$ resistors have resistances of 19, 20, and 21 $\\Omega$. The entire sample space would look like the following:"
   ]
  },
  {
   "cell_type": "code",
   "execution_count": 176,
   "metadata": {},
   "outputs": [],
   "source": [
    "import itertools\n",
    "list1=[9,10,11] \n",
    "list2=[19,20,21]\n",
    "n = 0\n",
    "outcomes = []\n",
    "X = []\n",
    "for shape,color in itertools.product(list1,list2):\n",
    "    outcomes.append([shape,color]) #create permutations\n",
    "    X.append(shape+color) #calculate summation of each permutation value\n",
    "    n+=1 #count the number of permutations"
   ]
  },
  {
   "cell_type": "code",
   "execution_count": 177,
   "metadata": {},
   "outputs": [],
   "source": [
    "prob = 1/n #calculate the probability of each outcome"
   ]
  },
  {
   "cell_type": "code",
   "execution_count": 178,
   "metadata": {},
   "outputs": [
    {
     "data": {
      "text/html": [
       "<div>\n",
       "<style scoped>\n",
       "    .dataframe tbody tr th:only-of-type {\n",
       "        vertical-align: middle;\n",
       "    }\n",
       "\n",
       "    .dataframe tbody tr th {\n",
       "        vertical-align: top;\n",
       "    }\n",
       "\n",
       "    .dataframe thead th {\n",
       "        text-align: right;\n",
       "    }\n",
       "</style>\n",
       "<table border=\"1\" class=\"dataframe\">\n",
       "  <thead>\n",
       "    <tr style=\"text-align: right;\">\n",
       "      <th></th>\n",
       "      <th>Outcome</th>\n",
       "      <th>X</th>\n",
       "      <th>Probability</th>\n",
       "    </tr>\n",
       "  </thead>\n",
       "  <tbody>\n",
       "    <tr>\n",
       "      <th>0</th>\n",
       "      <td>[9, 19]</td>\n",
       "      <td>28</td>\n",
       "      <td>0.111111</td>\n",
       "    </tr>\n",
       "    <tr>\n",
       "      <th>1</th>\n",
       "      <td>[9, 20]</td>\n",
       "      <td>29</td>\n",
       "      <td>0.111111</td>\n",
       "    </tr>\n",
       "    <tr>\n",
       "      <th>2</th>\n",
       "      <td>[9, 21]</td>\n",
       "      <td>30</td>\n",
       "      <td>0.111111</td>\n",
       "    </tr>\n",
       "    <tr>\n",
       "      <th>3</th>\n",
       "      <td>[10, 19]</td>\n",
       "      <td>29</td>\n",
       "      <td>0.111111</td>\n",
       "    </tr>\n",
       "    <tr>\n",
       "      <th>4</th>\n",
       "      <td>[10, 20]</td>\n",
       "      <td>30</td>\n",
       "      <td>0.111111</td>\n",
       "    </tr>\n",
       "    <tr>\n",
       "      <th>5</th>\n",
       "      <td>[10, 21]</td>\n",
       "      <td>31</td>\n",
       "      <td>0.111111</td>\n",
       "    </tr>\n",
       "    <tr>\n",
       "      <th>6</th>\n",
       "      <td>[11, 19]</td>\n",
       "      <td>30</td>\n",
       "      <td>0.111111</td>\n",
       "    </tr>\n",
       "    <tr>\n",
       "      <th>7</th>\n",
       "      <td>[11, 20]</td>\n",
       "      <td>31</td>\n",
       "      <td>0.111111</td>\n",
       "    </tr>\n",
       "    <tr>\n",
       "      <th>8</th>\n",
       "      <td>[11, 21]</td>\n",
       "      <td>32</td>\n",
       "      <td>0.111111</td>\n",
       "    </tr>\n",
       "  </tbody>\n",
       "</table>\n",
       "</div>"
      ],
      "text/plain": [
       "    Outcome   X  Probability\n",
       "0   [9, 19]  28     0.111111\n",
       "1   [9, 20]  29     0.111111\n",
       "2   [9, 21]  30     0.111111\n",
       "3  [10, 19]  29     0.111111\n",
       "4  [10, 20]  30     0.111111\n",
       "5  [10, 21]  31     0.111111\n",
       "6  [11, 19]  30     0.111111\n",
       "7  [11, 20]  31     0.111111\n",
       "8  [11, 21]  32     0.111111"
      ]
     },
     "execution_count": 178,
     "metadata": {},
     "output_type": "execute_result"
    }
   ],
   "source": [
    "df = pd.DataFrame({'Outcome':outcomes,'X':X,'Probability': prob*np.ones(n)})\n",
    "df"
   ]
  },
  {
   "cell_type": "markdown",
   "metadata": {},
   "source": [
    "Now calculate the probability of each value of X"
   ]
  },
  {
   "cell_type": "code",
   "execution_count": 188,
   "metadata": {},
   "outputs": [
    {
     "data": {
      "text/plain": [
       "30    0.333333\n",
       "31    0.222222\n",
       "29    0.222222\n",
       "28    0.111111\n",
       "32    0.111111\n",
       "Name: X, dtype: float64"
      ]
     },
     "execution_count": 188,
     "metadata": {},
     "output_type": "execute_result"
    }
   ],
   "source": [
    "df.X.value_counts()/n"
   ]
  },
  {
   "cell_type": "code",
   "execution_count": 192,
   "metadata": {},
   "outputs": [
    {
     "data": {
      "image/png": "[encoded data removed]",
      "text/plain": [
       "<Figure size 432x288 with 1 Axes>"
      ]
     },
     "metadata": {
      "needs_background": "light"
     },
     "output_type": "display_data"
    }
   ],
   "source": [
    "df.X.hist()\n",
    "plt.show()"
   ]
  },
  {
   "cell_type": "markdown",
   "metadata": {},
   "source": [
    "### Continuous Random Variables\n",
    "The level of H2S gas (in percent) in a produced oil is a random variable with the probability density function $$ $$ $$\\begin{cases} \\frac{3}{64}x^2(4-x),\\textrm{   for    } 0<x<4\\\\ 0, \\textrm{   otherwise   } \\end{cases}$$\n"
   ]
  },
  {
   "cell_type": "code",
   "execution_count": 326,
   "metadata": {},
   "outputs": [
    {
     "data": {
      "image/png": "[encoded data removed]",
      "text/plain": [
       "<Figure size 432x288 with 1 Axes>"
      ]
     },
     "metadata": {
      "needs_background": "light"
     },
     "output_type": "display_data"
    }
   ],
   "source": [
    "x = np.arange(0,4,0.01)\n",
    "y = 3/64*x**2*(4-x)\n",
    "plt.plot(x,y)\n",
    "plt.show()"
   ]
  },
  {
   "cell_type": "markdown",
   "metadata": {},
   "source": [
    "\n",
    "a) What is the probability that the H2S is greater than 3%?\n",
    "\n",
    "Find the integral of the probability density function greater than 3. Thus calculate: $$\\int_3^4{\\frac{3}{64}x^2(4-x)dx}$$"
   ]
  },
  {
   "cell_type": "code",
   "execution_count": 318,
   "metadata": {},
   "outputs": [
    {
     "name": "stdout",
     "output_type": "stream",
     "text": [
      "The probability is 26.171875 % that the H2S is greater than 3%.\n"
     ]
    }
   ],
   "source": [
    "import scipy.integrate as integrate\n",
    "p = integrate.quad(lambda x: 3/64*x**2*(4-x), 3, 4)\n",
    "print('The probability is', 100*p[0], '% that the H2S is greater than 3%.')"
   ]
  },
  {
   "cell_type": "markdown",
   "metadata": {},
   "source": [
    "b) What is the probability that the H2S is between 2 and 3%?\n",
    "\n",
    "Calculate $$\\int_2^3{\\frac{3}{64}x^2(4-x)dx}$$"
   ]
  },
  {
   "cell_type": "code",
   "execution_count": 327,
   "metadata": {},
   "outputs": [
    {
     "name": "stdout",
     "output_type": "stream",
     "text": [
      "The probability is 42.578125 % that the H2S is between 2 and 3%.\n"
     ]
    }
   ],
   "source": [
    "p = integrate.quad(lambda x: 3/64*x**2*(4-x), 2, 3)\n",
    "print('The probability is', 100*p[0], '% that the H2S is between 2 and 3%.')"
   ]
  },
  {
   "cell_type": "markdown",
   "metadata": {},
   "source": [
    "c) Find the mean impurity level\n",
    "\n",
    "Calculate $$\\frac{\\int_0^4{\\frac{3}{64}x^2(4-x)dx}}{4-0}$$"
   ]
  },
  {
   "cell_type": "code",
   "execution_count": 330,
   "metadata": {},
   "outputs": [
    {
     "name": "stdout",
     "output_type": "stream",
     "text": [
      "The mean impurity level is 0.25 %\n"
     ]
    }
   ],
   "source": [
    "p = integrate.quad(lambda x: 3/64*x**2*(4-x), 0, 4)\n",
    "mean = p[0]/4\n",
    "print('The mean impurity level is', mean, '%')"
   ]
  },
  {
   "cell_type": "markdown",
   "metadata": {},
   "source": [
    "## Distributions\n",
    "### Bernoulli"
   ]
  },
  {
   "cell_type": "code",
   "execution_count": 332,
   "metadata": {},
   "outputs": [
    {
     "data": {
      "image/png": "[encoded data removed]",
      "text/plain": [
       "<Figure size 432x288 with 1 Axes>"
      ]
     },
     "metadata": {
      "needs_background": "light"
     },
     "output_type": "display_data"
    }
   ],
   "source": [
    "from scipy.stats import bernoulli\n",
    "import seaborn as sb\n",
    "\n",
    "data_bern = bernoulli.rvs(size=1000,p=0.6)\n",
    "ax = sb.distplot(data_bern,\n",
    "                  kde=True,\n",
    "                  color='crimson',\n",
    "                  hist_kws={\"linewidth\": 25,'alpha':1})\n",
    "ax.set(xlabel='Bernouli', ylabel='Frequency')\n",
    "plt.show()"
   ]
  },
  {
   "cell_type": "markdown",
   "metadata": {},
   "source": [
    "### Binomial"
   ]
  },
  {
   "cell_type": "code",
   "execution_count": 334,
   "metadata": {},
   "outputs": [
    {
     "data": {
      "image/png": "[encoded data removed]",
      "text/plain": [
       "<Figure size 432x288 with 1 Axes>"
      ]
     },
     "metadata": {
      "needs_background": "light"
     },
     "output_type": "display_data"
    }
   ],
   "source": [
    "from scipy.stats import binom\n",
    "import seaborn as sb\n",
    "\n",
    "binom.rvs(size=10,n=20,p=0.8)\n",
    "\n",
    "data_binom = binom.rvs(n=20,p=0.8,loc=0,size=1000)\n",
    "ax = sb.distplot(data_binom,\n",
    "                  kde=True,\n",
    "                  color='blue',\n",
    "                  hist_kws={\"linewidth\": 25,'alpha':1})\n",
    "ax.set(xlabel='Binomial', ylabel='Frequency')\n",
    "plt.show()"
   ]
  },
  {
   "cell_type": "markdown",
   "metadata": {},
   "source": [
    "### Poisson"
   ]
  },
  {
   "cell_type": "code",
   "execution_count": 335,
   "metadata": {},
   "outputs": [
    {
     "data": {
      "image/png": "[encoded data removed]",
      "text/plain": [
       "<Figure size 432x288 with 1 Axes>"
      ]
     },
     "metadata": {
      "needs_background": "light"
     },
     "output_type": "display_data"
    }
   ],
   "source": [
    "from scipy.stats import poisson\n",
    "import seaborn as sb\n",
    "\n",
    "data_binom = poisson.rvs(mu=4, size=10000)\n",
    "ax = sb.distplot(data_binom,\n",
    "                  kde=True,\n",
    "                  color='green',\n",
    "                  hist_kws={\"linewidth\": 25,'alpha':1})\n",
    "ax.set(xlabel='Poisson', ylabel='Frequency')\n",
    "plt.show()"
   ]
  },
  {
   "cell_type": "markdown",
   "metadata": {},
   "source": [
    "### Normal (Gaussian)"
   ]
  },
  {
   "cell_type": "code",
   "execution_count": 336,
   "metadata": {},
   "outputs": [
    {
     "name": "stderr",
     "output_type": "stream",
     "text": [
      "/anaconda3/lib/python3.7/site-packages/matplotlib/axes/_axes.py:6521: MatplotlibDeprecationWarning: \n",
      "The 'normed' kwarg was deprecated in Matplotlib 2.1 and will be removed in 3.1. Use 'density' instead.\n",
      "  alternative=\"'density'\", removal=\"3.1\")\n"
     ]
    },
    {
     "data": {
      "image/png": "[encoded data removed]",
      "text/plain": [
       "<Figure size 432x288 with 1 Axes>"
      ]
     },
     "metadata": {
      "needs_background": "light"
     },
     "output_type": "display_data"
    }
   ],
   "source": [
    "mu, sigma = 0.5, 0.1\n",
    "s = np.random.normal(mu, sigma, 1000)\n",
    "\n",
    "# Create the bins and histogram\n",
    "count, bins, ignored = plt.hist(s, 20, normed=True)\n",
    "\n",
    "# Plot the distribution curve\n",
    "plt.plot(bins, 1/(sigma * np.sqrt(2 * np.pi)) *\n",
    "    np.exp( - (bins - mu)**2 / (2 * sigma**2) ),       linewidth=3, color='y')\n",
    "plt.show()"
   ]
  },
  {
   "cell_type": "markdown",
   "metadata": {},
   "source": [
    "## Confidence Intervals\n",
    "### Large-sample CI for a Population Mean\n",
    "Confidence Intervals for large sample population means are calculated with (if $\\mu$ is unknown, use 0.1):\n",
    "\n",
    "$$z = \\frac{\\bar{X}-\\mu}{\\sigma/\\sqrt{n}} $$\n",
    "$$  $$\n",
    "$$\\bar{X}\\pm z\\frac{\\sigma}{\\sqrt{n}}$$\n",
    "\n",
    "A sample of 100 drill pipes from a large lot of pipes showed a mean measured outer diameter of 8.1 inches with a standard deviation of 0.5 inches.\n",
    "\n",
    "a. Find the 95% confidence interval for the wall thickness of the drill pipe"
   ]
  },
  {
   "cell_type": "code",
   "execution_count": 244,
   "metadata": {},
   "outputs": [
    {
     "data": {
      "text/plain": [
       "(8.002001800772996, 8.197998199227003)"
      ]
     },
     "execution_count": 244,
     "metadata": {},
     "output_type": "execute_result"
    }
   ],
   "source": [
    "n = 100\n",
    "X = 8.1\n",
    "sd = 0.5\n",
    "ss.norm.interval(.95, loc=X, scale=sd/np.sqrt(n))"
   ]
  },
  {
   "cell_type": "markdown",
   "metadata": {},
   "source": [
    "b. Find the 99% confidence interval for the mean diameter of the drill pipe"
   ]
  },
  {
   "cell_type": "code",
   "execution_count": 246,
   "metadata": {},
   "outputs": [
    {
     "data": {
      "text/plain": [
       "(7.971208534822555, 8.228791465177444)"
      ]
     },
     "execution_count": 246,
     "metadata": {},
     "output_type": "execute_result"
    }
   ],
   "source": [
    "ss.norm.interval(.99, loc=X, scale=sd/np.sqrt(n))"
   ]
  },
  {
   "cell_type": "markdown",
   "metadata": {},
   "source": [
    "c. An engineer claims that the mean diameter is in between 8.02 and 8.18 inches. With what level of confidence can this be asserted?"
   ]
  },
  {
   "cell_type": "code",
   "execution_count": 256,
   "metadata": {},
   "outputs": [
    {
     "data": {
      "text/plain": [
       "0.8904014166008842"
      ]
     },
     "execution_count": 256,
     "metadata": {},
     "output_type": "execute_result"
    }
   ],
   "source": [
    "ci = 8.18\n",
    "z_sig = ci - X\n",
    "z = z_sig*np.sqrt(n)/sd\n",
    "1-(1-ss.norm.cdf(z))*2"
   ]
  },
  {
   "cell_type": "markdown",
   "metadata": {},
   "source": [
    "d. How many pipes must be sampled to get a 95% CI to specify within +/-0.08 inches?"
   ]
  },
  {
   "cell_type": "code",
   "execution_count": 272,
   "metadata": {},
   "outputs": [
    {
     "name": "stdout",
     "output_type": "stream",
     "text": [
      "151.0\n"
     ]
    }
   ],
   "source": [
    "z_sig = 0.08\n",
    "z = ss.norm.ppf(.975) #two tailed so it is alpha/2\n",
    "n = (z*sd/z_sig)**2\n",
    "print(np.ceil(n)) #np.ceil rounds up to the next highest integer"
   ]
  },
  {
   "cell_type": "code",
   "execution_count": null,
   "metadata": {},
   "outputs": [],
   "source": [
    "e. How many pipes must be sampled to get a 99% CI to specify within +/-0.08 inches?"
   ]
  },
  {
   "cell_type": "code",
   "execution_count": 275,
   "metadata": {},
   "outputs": [
    {
     "name": "stdout",
     "output_type": "stream",
     "text": [
      "260.0\n"
     ]
    }
   ],
   "source": [
    "z = ss.norm.ppf(.995) #two tailed so it is alpha/2\n",
    "n = (z*sd/z_sig)**2\n",
    "print(np.ceil(n)) #np.ceil rounds up to the next highest integer"
   ]
  },
  {
   "cell_type": "markdown",
   "metadata": {},
   "source": [
    "### CI for proportions\n",
    "Use the following to calculate the $100(1-\\alpha)$% confidence interval: $$\\tilde{n}=n+4 \\\\\\ \\\\ \\tilde{p}=\\frac{X+2}{\\tilde{n}} \\\\\\ \\\\ \\tilde{p} \\pm z_{\\alpha/2}\\sqrt{\\frac{\\tilde{p}(1-\\tilde{p})}{\\tilde{n}}}$$\n",
    "\n",
    "A drilling contractor purchases stands (40’ lengths) of casing piping. A random sample of 70 is selected from the large shipment. The drift diameter (minimum inner diameter) of the casing is measured and 52 meet the specification for minimum drift. \n",
    "\n",
    "a.\tFind a 95% confidence interval for the proportion of casing in the shipment that meets specification"
   ]
  },
  {
   "cell_type": "code",
   "execution_count": 239,
   "metadata": {},
   "outputs": [
    {
     "data": {
      "text/plain": [
       "array([0.6285456 , 0.83091386])"
      ]
     },
     "execution_count": 239,
     "metadata": {},
     "output_type": "execute_result"
    }
   ],
   "source": [
    "n = 70\n",
    "X = 52\n",
    "\n",
    "def binom_CI(n,X,alpha):\n",
    "    n_hat = n+4\n",
    "    p_hat = (X+2) / n_hat\n",
    "    \n",
    "    z = ss.norm.ppf(1-alpha/2)\n",
    "    \n",
    "    ci = z*np.sqrt(p_hat*(1-p_hat)/n_hat)\n",
    "\n",
    "    return np.array([p_hat-ci, p_hat+ci])\n",
    "\n",
    "\n",
    "alpha = 1 - 0.95\n",
    "binom_CI(n,X,alpha)"
   ]
  },
  {
   "cell_type": "markdown",
   "metadata": {},
   "source": [
    "b.\tFind a 90% confidence interval "
   ]
  },
  {
   "cell_type": "code",
   "execution_count": 240,
   "metadata": {},
   "outputs": [
    {
     "data": {
      "text/plain": [
       "array([0.64481333, 0.81464613])"
      ]
     },
     "execution_count": 240,
     "metadata": {},
     "output_type": "execute_result"
    }
   ],
   "source": [
    "alpha = 1 - 0.9\n",
    "binom_CI(n,X,alpha)"
   ]
  },
  {
   "cell_type": "markdown",
   "metadata": {},
   "source": [
    "### Small-sample CI for a Population Mean/Hypothesis Testing\n",
    "Use the Student's t to calculate for small sample size as follows:\n",
    "$$\\hat{X} \\pm t_{n-1,\\alpha/2}\\frac{s}{\\sqrt{n}}$$\n",
    "\n",
    "\n",
    "Five mud weight measurements are taken as 12.1, 12.3, 12.3, 12.2, and 12.3 ppg. \n",
    "\n",
    "a. What is the 95% confidence interval on the mean value?"
   ]
  },
  {
   "cell_type": "code",
   "execution_count": 340,
   "metadata": {},
   "outputs": [
    {
     "data": {
      "image/png": "[encoded data removed]",
      "text/plain": [
       "<Figure size 432x288 with 1 Axes>"
      ]
     },
     "metadata": {
      "needs_background": "light"
     },
     "output_type": "display_data"
    }
   ],
   "source": [
    "X = np.array([12.1,12.3,12.3,12.2,12.3])\n",
    "plt.boxplot(X) #check for outliers first\n",
    "plt.show()"
   ]
  },
  {
   "cell_type": "code",
   "execution_count": 338,
   "metadata": {},
   "outputs": [
    {
     "data": {
      "text/plain": [
       "(12.128942195792087, 12.351057804207914)"
      ]
     },
     "execution_count": 338,
     "metadata": {},
     "output_type": "execute_result"
    }
   ],
   "source": [
    "n = len(X)\n",
    "mean = np.mean(X)\n",
    "sd = np.std(X)\n",
    "df = n-1\n",
    "alpha = 0.95\n",
    "ss.t.interval(alpha, df, mean, ss.sem(X))"
   ]
  },
  {
   "cell_type": "markdown",
   "metadata": {},
   "source": [
    "b. A hypothesis is made that a mud weight of 13 ppg would be outside of normal operating parameters, is this hypothesis true or false (use a p value of 0.05 for significance)?"
   ]
  },
  {
   "cell_type": "markdown",
   "metadata": {},
   "source": [
    "So H0 if 13 is inside the 95%CI, H1 if 13 is outside the 95%CI. It is TRUE, the CI calculated above shows the maximum of the 95% CI to be 12.351 which is less than 13ppg, therefore it is outside of the p = 0.05 \"normal\"."
   ]
  },
  {
   "cell_type": "code",
   "execution_count": null,
   "metadata": {},
   "outputs": [],
   "source": []
  }
 ],
 "metadata": {
  "kernelspec": {
   "display_name": "Python 3",
   "language": "python",
   "name": "python3"
  },
  "language_info": {
   "codemirror_mode": {
    "name": "ipython",
    "version": 3
   },
   "file_extension": ".py",
   "mimetype": "text/x-python",
   "name": "python",
   "nbconvert_exporter": "python",
   "pygments_lexer": "ipython3",
   "version": "3.7.2"
  }
 },
 "nbformat": 4,
 "nbformat_minor": 2
}
