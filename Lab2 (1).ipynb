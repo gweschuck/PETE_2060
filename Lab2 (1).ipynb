{
 "cells": [
  {
   "cell_type": "code",
   "execution_count": null,
   "metadata": {},
   "outputs": [],
   "source": [
    "## Exercise 1: Address\n",
    "\n",
    "print('Wesley C. Williams, PhD')   #This is obvious\n",
    "print('3209R PFT Hall')\n",
    "print('Baton Rouge, LA 70810')\n",
    "\n",
    "print('Wesley C. Williams, PhD\\r3209R PFT Hall\\rBaton Rouge, LA 70810')"
   ]
  },
  {
   "cell_type": "code",
   "execution_count": null,
   "metadata": {},
   "outputs": [],
   "source": [
    "# Exercise 2: Hello User\n",
    "\n",
    "name = input('Input your name:')\n",
    "print('Hello '+ name+'!')"
   ]
  },
  {
   "cell_type": "code",
   "execution_count": null,
   "metadata": {},
   "outputs": [],
   "source": [
    "type(name)"
   ]
  },
  {
   "cell_type": "code",
   "execution_count": 1,
   "metadata": {},
   "outputs": [
    {
     "ename": "NameError",
     "evalue": "name 'name' is not defined",
     "output_type": "error",
     "traceback": [
      "\u001b[1;31m---------------------------------------------------------------------------\u001b[0m",
      "\u001b[1;31mNameError\u001b[0m                                 Traceback (most recent call last)",
      "\u001b[1;32m<ipython-input-1-9208da6632f5>\u001b[0m in \u001b[0;36m<module>\u001b[1;34m()\u001b[0m\n\u001b[1;32m----> 1\u001b[1;33m \u001b[1;36m3\u001b[0m\u001b[1;33m*\u001b[0m\u001b[0mname\u001b[0m\u001b[1;33m\u001b[0m\u001b[0m\n\u001b[0m",
      "\u001b[1;31mNameError\u001b[0m: name 'name' is not defined"
     ]
    }
   ],
   "source": [
    "3*name"
   ]
  },
  {
   "cell_type": "code",
   "execution_count": 5,
   "metadata": {},
   "outputs": [
    {
     "name": "stdout",
     "output_type": "stream",
     "text": [
      "The area of the room is 100.0 square meters.\n"
     ]
    }
   ],
   "source": [
    "## Example 3: Area of room\n",
    "\n",
    "length = float(input('Length of room in meters:'))\n",
    "width = float(input('Width of room in meters:'))\n",
    "\n",
    "area = length*width\n",
    "print('The area of the room is', area,'square meters.')"
   ]
  },
  {
   "cell_type": "code",
   "execution_count": 17,
   "metadata": {},
   "outputs": [
    {
     "name": "stdout",
     "output_type": "stream",
     "text": [
      "The area of the room is 484.0 square meters.\n"
     ]
    }
   ],
   "source": [
    "## Example 3: Area of room\n",
    "\n",
    "def area(L,W):\n",
    "    area = L * W\n",
    "    return area\n",
    "\n",
    "\n",
    "print('The area of the room is', \n",
    "      area(float(input('Length of room in meters:')),\n",
    "           float(input('Width of room in meters:'))),'square meters.')"
   ]
  },
  {
   "cell_type": "code",
   "execution_count": 13,
   "metadata": {},
   "outputs": [
    {
     "data": {
      "text/plain": [
       "100.0"
      ]
     },
     "execution_count": 13,
     "metadata": {},
     "output_type": "execute_result"
    }
   ],
   "source": [
    "area(length,width)"
   ]
  },
  {
   "cell_type": "code",
   "execution_count": 14,
   "metadata": {},
   "outputs": [
    {
     "data": {
      "text/plain": [
       "147852"
      ]
     },
     "execution_count": 14,
     "metadata": {},
     "output_type": "execute_result"
    }
   ],
   "source": [
    "area(333,444)"
   ]
  },
  {
   "cell_type": "code",
   "execution_count": 27,
   "metadata": {},
   "outputs": [
    {
     "name": "stdout",
     "output_type": "stream",
     "text": [
      "This software will create a sorted list of integers.\n",
      "Please enter your positive integers one at a time.\n",
      "Enter a value of 0 to exit program and display the list.\n",
      "1\n",
      "4\n",
      "4\n",
      "4\n",
      "5\n",
      "5\n"
     ]
    }
   ],
   "source": [
    "## Exercise 104: Sorted Order\n",
    "\n",
    "print('This software will create a sorted list of integers.')\n",
    "print('Please enter your positive integers one at a time.')\n",
    "print('Enter a value of 0 to exit program and display the list.')\n",
    "\n",
    "myList = []\n",
    "i = 1\n",
    "\n",
    "while i > 0:\n",
    "    i = int(input('Input an integer or 0 to quit:'))\n",
    "    myList.append(i)\n",
    "\n",
    "# myList = sorted(myList)\n",
    "myList.sort()\n",
    "myList.remove(0)\n",
    "for num in myList:\n",
    "    print(myList[num-1])\n",
    "    "
   ]
  },
  {
   "cell_type": "code",
   "execution_count": null,
   "metadata": {},
   "outputs": [],
   "source": []
  }
 ],
 "metadata": {
  "kernelspec": {
   "display_name": "Python 3",
   "language": "python",
   "name": "python3"
  },
  "language_info": {
   "codemirror_mode": {
    "name": "ipython",
    "version": 3
   },
   "file_extension": ".py",
   "mimetype": "text/x-python",
   "name": "python",
   "nbconvert_exporter": "python",
   "pygments_lexer": "ipython3",
   "version": "3.6.3"
  }
 },
 "nbformat": 4,
 "nbformat_minor": 2
}
